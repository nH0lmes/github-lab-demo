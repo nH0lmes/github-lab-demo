{
  "cells": [
    {
      "cell_type": "markdown",
      "id": "fc30372b",
      "metadata": {
        "id": "fc30372b"
      },
      "source": [
        "# Notebook - Version Control and Introduction to CI/CD\n",
        "\n",
        "This notebook provides instructions for the Version Control lab.\n",
        "\n",
        "\n",
        "\n",
        "The Intended Learning Outcomes include:\n",
        "\n",
        "1. Getting to know GitHub\n",
        "2. Setting up remote and local git repositories\n",
        "3. Using Secure Shell Protocol for connection\n",
        "4. Committing to local and remote repositories   \n",
        "5. Creating basic scripts CI/CD pipeline  \n",
        "6. Resolving conflicts when working with large code-bases.\n",
        "7. Understanding most common GitHub commands (e.g., `git init`, `git add`, `git commit`, `git pull`, `git push`, `git fetch`, `git merge`)\n",
        "\n",
        "\n",
        "Credit: Dr Moody Alam\n",
        "\n"
      ]
    },
    {
      "cell_type": "markdown",
      "source": [
        "## Topics\n",
        "\n",
        ">[0 Preamble](#scrollTo=E9Ur513ec3va)\n",
        "\n",
        ">[1 Setup an account with GitHub](#scrollTo=d3pN3UAddJ_a)\n",
        "\n",
        ">[2 GitHub Installation](#scrollTo=A3H2TAJBdzmr)\n",
        "\n",
        ">[3 Getting Started with GitHub](#scrollTo=02GbhKJ5e8Mi)\n",
        "\n",
        ">>[3.1 Creating a Remote Repository (repo)](#scrollTo=RyMR-5pYflyk)\n",
        "\n",
        ">>[3.2 Adding SSH key to your account](#scrollTo=6ouyFXwLhmXy)\n",
        "\n",
        ">[4 Setting up a Local Repository on Your Machine](#scrollTo=D4FbGjlskW4i)\n",
        "\n",
        ">>[4.1 Creating Your First File in Local Repo](#scrollTo=22jYBooWmN3g)\n",
        "\n",
        ">>[4.2 Committing Your hello.py to Your Local Repo](#scrollTo=mBx6DBKxn9fS)\n",
        "\n",
        ">>[4.3 Linking Local Repo to Remote Repo](#scrollTo=LTjzjNTMpkFX)\n",
        "\n",
        ">>[4.4 Pushing Your Changes to Remote Repo](#scrollTo=Vs1i537BroTk)\n",
        "\n",
        ">>[4.5 Confirming Your Push Has Gone Through](#scrollTo=pNXRpOV1s88s)\n",
        "\n",
        ">[5 Creating a Basic CI/CD workflow script via GitHub Action](#scrollTo=28FIxQ9saH39)\n",
        "\n",
        ">>[5.1 Creating a GitHub Action](#scrollTo=K3zADhwNuT4P)\n",
        "\n",
        ">>[5.2 Push Changes to Remote Repo](#scrollTo=sN-GxsRYxShZ)\n",
        "\n",
        ">>[5.3 View Your GitHub Action](#scrollTo=dAn9e455yFZ3)\n",
        "\n",
        ">>[5.4 Explaination of Our GitHub Action](#scrollTo=2FiqU6uYzQv1)\n",
        "\n",
        ">>[5.5 Running the GitHub Action Again.](#scrollTo=kjBsIjwu0by0)\n",
        "\n",
        ">[6 Creating \"Conflicts\"](#scrollTo=5ndT8LDGh29N)\n",
        "\n",
        ">>[6.1 Create a GitHub Action to Aritificially Create a Conflict](#scrollTo=-XjQslBj2KpP)\n",
        "\n",
        ">>[6.2 Testing When Our New GitHub Action Should NOT Trigger](#scrollTo=RX0gCCwF6CRX)\n",
        "\n",
        ">>[6.3 Testing When Our New GitHub Action SHOULD Trigger](#scrollTo=3OLK-OzR8UCX)\n",
        "\n",
        ">[7 Resolving Conflicts](#scrollTo=BNgZNd_jBn3T)\n",
        "\n",
        ">>[7.1 Tip - Good practice](#scrollTo=tNeGKn0ZC7nQ)\n",
        "\n",
        ">>[7.2 Exploring a More Complex Conflict Scenario](#scrollTo=txVTHRiLD-8P)\n",
        "\n",
        ">[8 Creating Even More Complicated Conflicts!](#scrollTo=4cFm62K6Nhjf)\n",
        "\n",
        ">>[8.1 Simulating Conflict Within a File Contents](#scrollTo=7sunlEkdO7js)\n",
        "\n",
        ">>[8.2 Creating a conflict within file](#scrollTo=gNTXZl8CRXGe)\n",
        "\n",
        ">[9 Conclusion](#scrollTo=S4NiCKf-w6Pv)"
      ],
      "metadata": {
        "colab_type": "toc",
        "id": "zEzQGVsLzWF1"
      },
      "id": "zEzQGVsLzWF1"
    },
    {
      "cell_type": "markdown",
      "source": [
        "## 0 Preamble\n",
        "\n",
        "To get the most out of this lab, you should be familiar with the following some concepts. If you familiar with them, just skip over to next section. If not, feel free to learn about them with the helpful links below.\n",
        "\n",
        "1. [What is Version Control?](https://www.atlassian.com/git/tutorials/what-is-version-control)\n",
        "\n",
        "2. [What is Git?](https://www.atlassian.com/git/tutorials/what-is-git)\n",
        "\n",
        "3. [What is GitHub? and GitHub vs Git](https://docs.github.com/en/get-started/start-your-journey/about-github-and-git)"
      ],
      "metadata": {
        "id": "E9Ur513ec3va"
      },
      "id": "E9Ur513ec3va"
    },
    {
      "cell_type": "markdown",
      "source": [
        "## 1 Setup an account with GitHub\n",
        "\n",
        "We will be using [GitHub](https://github.com/) for this lab.\n",
        "\n",
        "If you don't have an existing account with GitHub, then follow the Signup option to setup an account with GitHub.\n",
        "\n",
        "You can use your personal or university's account to setup your GitHub account.\n",
        "\n",
        "https://github.com/\n",
        "\n",
        "https://docs.github.com/en/get-started/start-your-journey/creating-an-account-on-github"
      ],
      "metadata": {
        "id": "d3pN3UAddJ_a"
      },
      "id": "d3pN3UAddJ_a"
    },
    {
      "cell_type": "markdown",
      "source": [
        "## 2 GitHub Installation\n",
        "\n",
        "GitHub should be accessible on the computers in the University's labs. However, we encourage you to install and run `git` on your own machine.\n",
        "\n",
        "Depending on your operation system, please follow the guidelines to install `git` on your machine:\n",
        "\n",
        "https://docs.github.com/en/get-started/git-basics/set-up-git"
      ],
      "metadata": {
        "id": "A3H2TAJBdzmr"
      },
      "id": "A3H2TAJBdzmr"
    },
    {
      "cell_type": "markdown",
      "source": [
        "## 3 Getting Started with GitHub\n",
        "\n",
        "If you are new to GitHub, please explore the link below to learn more about GitHub.\n",
        "\n",
        "https://docs.github.com/en/get-started"
      ],
      "metadata": {
        "id": "02GbhKJ5e8Mi"
      },
      "id": "02GbhKJ5e8Mi"
    },
    {
      "cell_type": "markdown",
      "source": [
        "### 3.1 Creating a Remote Repository (repo)\n",
        "\n",
        "In this step, you will create a new remote repository (remote \"repo\") on GitHub. Please follow the instructions below.\n",
        "\n",
        "**Make sure that your repository name is `github-lab-demo`** and its **visibility set to `public`**\n",
        "\n",
        "https://docs.github.com/en/get-started/start-your-journey/creating-an-account-on-github\n",
        "\n",
        "![Creating GitHub Repo](https://drive.google.com/uc?id=1dbX2kQNgNwE1rrjLxhgMHmbldmkTVD7G)"
      ],
      "metadata": {
        "id": "RyMR-5pYflyk"
      },
      "id": "RyMR-5pYflyk"
    },
    {
      "cell_type": "markdown",
      "source": [
        "### 3.2 Adding SSH key to your account\n",
        "\n",
        "You will now need to add an SSH key to your account so you can access your GitHub repo over Secure Shell Protocol.\n",
        "\n",
        "Follow the instructions below as per your operation system (Windows/MacOS)\n",
        "\n",
        "https://docs.github.com/en/authentication/connecting-to-github-with-ssh/adding-a-new-ssh-key-to-your-github-account"
      ],
      "metadata": {
        "id": "6ouyFXwLhmXy"
      },
      "id": "6ouyFXwLhmXy"
    },
    {
      "cell_type": "markdown",
      "source": [
        "## 4 Setting up a Local Repository on Your Machine\n",
        "\n",
        "1. Create a folder on your machine (e.g. `ost-demo`).\n",
        "\n",
        "2. Using terminal (command line) browse into the folder.\n",
        "\n",
        "3. Now run `git init` command on your terminal\n",
        "\n",
        "```bash\n",
        "git init\n",
        "```\n",
        "\n",
        "\n",
        "You should see outcome similar to the image below:\n",
        "\n",
        "![Outcome of git init command](https://drive.google.com/uc?id=1aaQ4OK06YV01E-V1lDwhNPUHQnsXgVN2)"
      ],
      "metadata": {
        "id": "D4FbGjlskW4i"
      },
      "id": "D4FbGjlskW4i"
    },
    {
      "cell_type": "markdown",
      "source": [
        "### 4.1 Creating Your First File in Local Repo\n",
        "\n",
        "You will need a create a Python file `hello.py` in the folder. This file should have a single statement as below. You can use any text editor (or IDE like Visual Studio) to create this. Alternatively, if you are using a macbook, you can create it using the ```echo \"print('Hello')\" > hello.py```\n",
        "\n",
        "\n",
        "```python\n",
        "print(\"Hello\")\n",
        "```\n",
        "\n",
        "You can then save the file and run it on command line using Python just to make sure that it prints out `Hello`.\n",
        "\n",
        "```bash\n",
        "python hello.py\n",
        "```\n",
        "\n",
        "On a Macbook the outcome will look like this:\n",
        "\n",
        "![Creating and Running Python File](https://drive.google.com/uc?id=1F_x0IdHRlxg5W45yhADmqggqRnnJxn8T)\n",
        "\n",
        "\n"
      ],
      "metadata": {
        "id": "22jYBooWmN3g"
      },
      "id": "22jYBooWmN3g"
    },
    {
      "cell_type": "markdown",
      "source": [
        "### 4.2 Committing Your `hello.py` to Your Local Repo\n",
        "\n",
        "You can add your file with the `git add .` command and then commit it to your local repo (note this file will still remain on your machine locally and not created on remote repo yet)\n",
        "\n",
        "\n",
        "```bash\n",
        "git add .\n",
        "git commit -m \"Adding python file\"\n",
        "```\n",
        "\n",
        "The outcome will look like this:\n",
        "\n",
        "\n",
        "![Committing Python File](https://drive.google.com/uc?id=1I-7Yrx8ZKtLgVcbzPTAdb3nIpHnAY3N0)\n",
        "\n"
      ],
      "metadata": {
        "id": "mBx6DBKxn9fS"
      },
      "id": "mBx6DBKxn9fS"
    },
    {
      "cell_type": "markdown",
      "source": [
        "### 4.3 Linking Local Repo to Remote Repo\n",
        "\n",
        "You can run the following command to link up your local repo (which your created when you ran the `git init` command) with your remote GitHub repo. You can do so by:\n",
        "\n",
        "**Make sure to replace the `<YOUR_USER_NAME>` with your GitHub user name.**\n",
        "\n",
        "```\n",
        "git remote add origin git@github.com:<YOUR_USER_NAME>/github-lab-demo.git\n",
        "```\n",
        "\n",
        "This ensures that you access the remote repository via SSH keys.\n",
        "\n",
        "**If you get stuck** with the above command (e.g., some issues with the SSH keys set-up), then use the following command.\n",
        "\n",
        "```\n",
        "git remote add origin https://github.com/<YOUR_USER_NAME>/github-lab-demo.git\n",
        "```\n",
        "For example, for me it is `git remote add origin https://github.com/moodyalam/github-lab-demo.git`\n",
        "\n",
        "The outcome should look like this:\n",
        "\n",
        "![Linking your local repo with remote GitHub repo](https://drive.google.com/uc?id=1uKC707FVGLGOGTsyq5EoJgOw0rG2s3mL)\n",
        "\n",
        "\n"
      ],
      "metadata": {
        "id": "LTjzjNTMpkFX"
      },
      "id": "LTjzjNTMpkFX"
    },
    {
      "cell_type": "markdown",
      "source": [
        "### 4.4 Pushing Your Changes to Remote Repo\n",
        "\n",
        "By now, you have created a local repository, made changes to the local repo (i.e., creating the hello.py and adding it to the local repo), and linked up your local repo to remote GitHub repo (with the `git remote add` command).\n",
        "\n",
        "You now need to \"push\" to upload all your changes to the remote repo by running:\n",
        "\n",
        "\n",
        "```\n",
        "git push --set-upstream origin main\n",
        "```\n",
        "\n",
        "\n",
        "The outcome should look like this:\n",
        "\n",
        "![Pushing to GitHub Repo](https://drive.google.com/uc?id=1i4bXOGYVvJOdVFWjJd4K2gNz8YKAQhQ5)\n"
      ],
      "metadata": {
        "id": "Vs1i537BroTk"
      },
      "id": "Vs1i537BroTk"
    },
    {
      "cell_type": "markdown",
      "source": [
        "### 4.5 Confirming Your Push Has Gone Through\n",
        "\n",
        "To confirm that your `push` command was successful you can view your remote repo online on GitHub.\n",
        "\n",
        "The address for it should be:\n",
        "\n",
        "**Make sure to replace the `<YOUR_USER_NAME>` with your GitHub user name.**\n",
        "\n",
        "\n",
        "```\n",
        "https://github.com/<YOUR_USER_NAME>/github-lab-demo\n",
        "\n",
        "```\n",
        "\n",
        "For example, for me it is:\n",
        "\n",
        "'https://github.com/moodyalam/github-lab-demo'\n",
        "\n",
        "\n",
        "And the outcome:\n",
        "\n",
        "![Pushing to GitHub Repo](https://drive.google.com/uc?id=1ssDATWCVCaoGj7Vf_SUM1yUXxGi5RuLy)"
      ],
      "metadata": {
        "id": "pNXRpOV1s88s"
      },
      "id": "pNXRpOV1s88s"
    },
    {
      "cell_type": "markdown",
      "source": [
        "## 5 Creating a Basic CI/CD workflow script via GitHub Action\n",
        "\n",
        "This section is focused on demonstrating a basic CI/CD workflow functionality via GitHub Action. [GitHub Actions](https://docs.github.com/en/actions) are a way to automate your workflow. Note that, the primary objective is for you to understand the general concept and not to demonstrate a fully functional CI/CD workflow.\n",
        "\n",
        "If need be, you can read up further on the links below\n",
        "\n",
        "1. [What is CI/CD?](https://github.com/resources/articles/devops/ci-cd)\n",
        "2. [Understanding GitHub Actions](https://docs.github.com/en/actions/get-started/understand-github-actions)\n",
        "3. [GitHub Actions](https://docs.github.com/en/actions)\n",
        "\n"
      ],
      "metadata": {
        "id": "28FIxQ9saH39"
      },
      "id": "28FIxQ9saH39"
    },
    {
      "cell_type": "markdown",
      "source": [
        "### 5.1 Creating a GitHub Action\n",
        "\n",
        "We will now create a GitHub Action.\n",
        "\n",
        "While staying in your folder (e.g. `ost-demo`), first create a folder hierarchy `.github/workflows`.\n",
        "\n",
        "For example on a Macbook, you can do so by:\n",
        "\n",
        "\n",
        "```\n",
        "mkdir -p .github/workflows\n",
        "```\n",
        "\n",
        "Then browse to `.github` folder and then to `workflows` folder and create a `run-python.yml` file. Open that file and insert the following code and save the file. Alternatively, you can download the`run-python.yml` from the following link and then copy it into the `workflows` folder.\n",
        "\n",
        "\n",
        "**[Download link for `run-python.yml` file](https://drive.google.com/file/d/1R-uyGFOe21mf_VuGZkBClEep6BNQ9Ds0/view?usp=drive_link)**\n",
        "\n",
        "\n",
        "\n",
        "```yaml\n",
        "name: Run Python Script\n",
        "\n",
        "# When to run the workflow\n",
        "on:\n",
        "  push:\n",
        "    branches: [ main ]\n",
        "\n",
        "jobs:\n",
        "  run-python:\n",
        "    runs-on: ubuntu-latest  # GitHub-hosted Linux environment\n",
        "\n",
        "    steps:\n",
        "      # Step 1: Check out your repository files\n",
        "      - name: Checkout code\n",
        "        uses: actions/checkout@v4\n",
        "\n",
        "      # Step 2: Set up Python 3\n",
        "      - name: Set up Python\n",
        "        uses: actions/setup-python@v5\n",
        "        with:\n",
        "          python-version: '3.x'\n",
        "\n",
        "      # Step 3: Run the Python script\n",
        "      - name: Run hello.py\n",
        "        run: python hello.py\n",
        "\n",
        "\n",
        "\n"
      ],
      "metadata": {
        "id": "K3zADhwNuT4P"
      },
      "id": "K3zADhwNuT4P"
    },
    {
      "cell_type": "markdown",
      "source": [
        "### 5.2 Push Changes to Remote Repo\n",
        "\n",
        "To push your new changes (i.e., newly created `run-python.yml`) to your remote  repo, run the following command on your terminal.\n",
        "\n",
        "\n",
        "```\n",
        "git add .\n",
        "git commit -m \"Adding GitHub Python action\"\n",
        "git push\n",
        "```\n",
        "\n",
        "The output should like this:\n",
        "\n",
        "![Pushing to GitHub Repo](https://drive.google.com/uc?id=1B-UrAQYcQ_BHZ4OlWFKZwsMeC1lKdIMq)\n"
      ],
      "metadata": {
        "id": "sN-GxsRYxShZ"
      },
      "id": "sN-GxsRYxShZ"
    },
    {
      "cell_type": "markdown",
      "source": [
        "### 5.3 View Your GitHub Action\n",
        "\n",
        "To confirm that your changes were pushed successfully, go to your remote `github-lab-demo` repo online and then click on the `Actions` tab.\n",
        "\n",
        "The outcome should look like below. If you see the \"green check\" before the \"Adding GitHub Python actoin\" - then congratualtions! You have just successfully created your first GitHub Action.\n",
        "\n",
        "![Viewing Your GitHub Action](https://drive.google.com/uc?id=1cVgXQdZuByFlAAJ4a0wuqfd7PB5A2fV-)\n",
        "\n"
      ],
      "metadata": {
        "id": "dAn9e455yFZ3"
      },
      "id": "dAn9e455yFZ3"
    },
    {
      "cell_type": "markdown",
      "source": [
        "### 5.4 Explaination of Our GitHub Action\n",
        "\n",
        "The `run-pytohn.yml` has the code to tell GitHub that anytime new changes are pushed, it should run the `hello.py` file in the repo. We already know that `hello.py` print outs a simple \"Hello\". To confirm that your GitHub Action did run, click on the \"Adding GitHub Python action\" and then on the \"Run hello.py\". It should show you a \"Hello\" as the outcome.\n",
        "\n",
        "The outcome will look like this\n",
        "\n",
        "\n",
        "\n",
        "![Viewing Your GitHub Action Outcome](https://drive.google.com/uc?id=1U6lgLnUQ3UEBqMz_ONvDY-3CMmu-iwcZ)"
      ],
      "metadata": {
        "id": "2FiqU6uYzQv1"
      },
      "id": "2FiqU6uYzQv1"
    },
    {
      "cell_type": "markdown",
      "source": [
        "### 5.5 Running the GitHub Action Again.\n",
        "\n",
        "To see that your created GitHub Action indeed runs every time, we will now create a text file `text1.txt`in the main directory (e.g. `ost-demo`). You can use any editor (e.g. notepad) to create this file. Once you have done so, you can run the following command on the terminal.\n",
        "\n",
        "\n",
        "```\n",
        "git add .\n",
        "git commit -m \"Adding text1.txt file\"\n",
        "git push\n",
        "```\n",
        "\n",
        "The outcome:\n",
        "\n",
        "![Viewing Your GitHub Action Outcome](https://drive.google.com/uc?id=1NQcY7I076fuuIUaKeI8HWPm_v_bT-3Bq)\n"
      ],
      "metadata": {
        "id": "kjBsIjwu0by0"
      },
      "id": "kjBsIjwu0by0"
    },
    {
      "cell_type": "markdown",
      "source": [
        "You can confirm the GitHub Action by viewing it online again.\n",
        "\n",
        "![Viewing Your GitHub Action Outcome](https://drive.google.com/uc?id=1GBLa0nnwwwb0hjT-yN1X_lhGu_GiGXQw)\n"
      ],
      "metadata": {
        "id": "IQjfHBrA1zFs"
      },
      "id": "IQjfHBrA1zFs"
    },
    {
      "cell_type": "markdown",
      "source": [
        "## 6 Creating \"Conflicts\"\n",
        "\n",
        "Imagine that you are working as part of a data science team. A team members downloads (`pull`) your GitHub repo. They make some changes on their local repo and then `push` those changes to GitHub repo. Now, your local copy is out of sync with the remote repo because it does not have the latest changes that your team member has pushed. This is known as a \"conflict\".\n",
        "\n",
        "To simulate such a scenario, we will create a GitHub Action that will automatically create a new file and add it to the GitHub repo when new changes are pushed - thus, ensuring that your local rep is out of sync and artificially creating a \"conflict\". Note that this GitHub Action will **only** run if the commit comment is \"create conflict\" (i.e., `git commmit -m \"create conflict\")`. If the commit comment is not \"create conflict\", it will NOT trigger the GitHub Action `conflict-bot.yml` so no conflict will be created."
      ],
      "metadata": {
        "id": "5ndT8LDGh29N"
      },
      "id": "5ndT8LDGh29N"
    },
    {
      "cell_type": "markdown",
      "source": [
        "### 6.1 Create a GitHub Action to Aritificially Create a Conflict\n",
        "\n",
        "\n",
        "To do so, we first create a GitHub Action file `conflict-bot.yml` in our `.github/workflows` directory with the following code. Alternatively, you can download the `conflict-bot.yml` and copy it into `.github/workflows` directory\n",
        "\n",
        "**[Download link for `conflict-bot.yml`](https://drive.google.com/file/d/1M0AZs5PV6eRpddmGFLk5JfJLodz1v1N4/view?usp=drive_link)**\n",
        "\n",
        "\n",
        "```yaml\n",
        "name: Auto Conflict Creator\n",
        "\n",
        "on:\n",
        "  push:\n",
        "    branches:\n",
        "      - main\n",
        "\n",
        "permissions:\n",
        "  contents: write\n",
        "\n",
        "jobs:\n",
        "  conflict-bot:\n",
        "    if: contains(github.event.head_commit.message, 'create conflict')\n",
        "    runs-on: ubuntu-latest\n",
        "    steps:\n",
        "      - name: Checkout repository\n",
        "        uses: actions/checkout@v4\n",
        "        with:\n",
        "          ref: main\n",
        "\n",
        "      - name: Configure Git\n",
        "        run: |\n",
        "          git config user.name \"Conflict Bot\"\n",
        "          git config user.email \"conflict-bot@users.noreply.github.com\"\n",
        "\n",
        "      - name: Create conflicting file\n",
        "        run: |\n",
        "          FILENAME=\"conflict_$(date +%s).txt\"\n",
        "          echo \"This file was automatically added by the conflict bot at $(date).\" > $FILENAME\n",
        "          git add $FILENAME\n",
        "          git commit -m \"Auto: Created $FILENAME to trigger merge conflict\"\n",
        "          git push origin main\n",
        "```\n",
        "\n",
        "\n"
      ],
      "metadata": {
        "id": "-XjQslBj2KpP"
      },
      "id": "-XjQslBj2KpP"
    },
    {
      "cell_type": "markdown",
      "source": [
        "Next, we push our changes to GitHub repo.\n",
        "\n",
        "\n",
        "```\n",
        "git add .\n",
        "git commit -m \"Adding GitHub Action for Auto Conflict File creation\"\n",
        "git push\n",
        "```\n",
        "\n",
        "The outcome is:\n",
        "\n",
        "![Viewing Your GitHub Action Outcome](https://drive.google.com/uc?id=1V9LPwdUvY9Q23xt9H3uRZNAAYAJGaKAT)\n",
        "\n",
        "You can view it on GitHub Action\n",
        "\n",
        "![Viewing Your GitHub Action Outcome2](https://drive.google.com/uc?id=1ePrMrqP9ZZqwWvZPGup0WByhadn6Vut1)\n",
        "\n",
        "\n"
      ],
      "metadata": {
        "id": "vE7yWsF44fVH"
      },
      "id": "vE7yWsF44fVH"
    },
    {
      "cell_type": "markdown",
      "source": [
        "### 6.2 Testing When Our New GitHub Action Should NOT Trigger\n",
        "\n",
        "Now, to confirm that our new GitHub Action when run **only** when the commit comment is \"create conflict\", we will now create a text file `text2.txt`in the main directory (e.g. `ost-demo`), as we did earlier. Once you have done so, you can run the following command on the terminal.\n",
        "\n",
        "\n",
        "```\n",
        "git add .\n",
        "git commit -m \"Adding text2.txt file\"\n",
        "git push\n",
        "```\n",
        "\n",
        "Now, you can view your remote GitHub repo which should only have 3 files `hello.py`, `text1.txt` and `text2.txt`. Our GitHub Action did not create automatically add a new file to the GitHub repo, because that git commit comment was **not** \"create conflict\""
      ],
      "metadata": {
        "id": "RX0gCCwF6CRX"
      },
      "id": "RX0gCCwF6CRX"
    },
    {
      "cell_type": "markdown",
      "source": [
        "### 6.3 Testing When Our New GitHub Action SHOULD Trigger\n",
        "\n",
        "Now, to trigger our GitHub action, we will create `text3.txt`in the main directory (e.g. `ost-demo`), as we did earlier, and run the following commands.\n",
        "\n",
        "\n",
        "```\n",
        "git add .\n",
        "git commit -m \"create conflict\"\n",
        "git push\n",
        "```\n",
        "\n",
        "Now, you can view your remote GitHub repo online which should have 3 files `hello.py`, `text1.txt`, `text2.txt` and `text2.txt`. However, we notice a new **'conflict_<timestamp>.txt`** file. This confirms that our GitAction ran and added a new file.\n",
        "\n",
        "\n",
        "![Viewing Your GitHub Action Outcome3](https://drive.google.com/uc?id=1UxK3BszGGnvujMFPw5KmMVYikz8SdYjT)\n",
        "\n"
      ],
      "metadata": {
        "id": "3OLK-OzR8UCX"
      },
      "id": "3OLK-OzR8UCX"
    },
    {
      "cell_type": "markdown",
      "source": [
        "Now our local repo is out of syn as it doesn't have the `conflict_<timestamp>.txt` file.\n",
        "\n",
        "If we try to run the `git push` command, we will get the warning to confirm that the remote repo is now different than our local repo.\n",
        "\n",
        "\n",
        "```\n",
        "git push\n",
        "```\n",
        "\n",
        "The outcome:\n",
        "\n",
        "![Viewing Your GitHub Action Outcome3](https://drive.google.com/uc?id=1RM81AaCXOZid7Te1KqIWYESEQJftPQm1)\n",
        "\n",
        "\n"
      ],
      "metadata": {
        "id": "oolm76s1ANkj"
      },
      "id": "oolm76s1ANkj"
    },
    {
      "cell_type": "markdown",
      "source": [
        "## 7 Resolving Conflicts\n",
        "\n",
        "In this scenario, a file `conflict_<timestamp>.txt` on GitHub repo is missing from local repo. This is an easier conflict to resolve by doing a `git pull` which pulls (downloads) the missing file for us. Note that git has a similar `git pull` command but both are different:\n",
        "\n",
        "1. `git fetch` = Downloads all new commits, branches, and tags from the remote repository — but does not modify your working files or current branch. Considered \"safer\" than `git pull`.\n",
        "\n",
        "2. `git pull` = Downloads new commits and then automatically merges (or rebases) them into your current branch. Simply stated, it is somewhat equivalent of running a `git fetch` followed by `git merge`.\n",
        "\n",
        "\n",
        "We will stick to `git pull` as that suffices for this demo.\n",
        "\n",
        "\n",
        "\n",
        "```\n",
        "git pull\n",
        "```\n",
        "\n",
        "The outcome:\n",
        "\n",
        "![Viewing Your GitHub Action Outcome3](https://drive.google.com/uc?id=1ooWBGlMDcXL4xIXaEamyWeBl1auZ_Yu5)\n",
        "\n",
        "\n",
        "You can confirm that you have the conflict file in your folder (e.g. `ost-demo`) by browsing it or via terminal command (e.g. `ls` or `dir`)\n",
        "\n",
        "Now, if we run\n",
        "\n",
        "```\n",
        "git push\n",
        "```\n",
        "\n",
        "We will not get the warning. The command outcome should now be \"Everything up-to-date\""
      ],
      "metadata": {
        "id": "BNgZNd_jBn3T"
      },
      "id": "BNgZNd_jBn3T"
    },
    {
      "cell_type": "markdown",
      "source": [
        "### 7.1 Tip - Good practice\n",
        "\n",
        "It is always a good idea to do a `git pull` before you start making changes to ensure you have a fresh local repo that is exactly the same as the remote repo!"
      ],
      "metadata": {
        "id": "tNeGKn0ZC7nQ"
      },
      "id": "tNeGKn0ZC7nQ"
    },
    {
      "cell_type": "markdown",
      "source": [
        "### 7.2 Exploring a More Complex Conflict Scenario\n",
        "\n",
        "Now suppose, you started working with your local repo after running `git pull`. You create a new file and commit your change (i.e. the newly created file) to your local repo. Suppose that in the meanwhile, another team member had pushed their changes which added a new file to the GitHub repo. Now, your local repo is missing that file and  when you attempt a `git push`, you'll again see a warning and your push will be rejected.\n",
        "\n",
        "Notice that this scenario is different than the previous one.\n",
        "\n",
        "1. In the first scenario, our local repo was missing a file from the remote repo. We did a `git pull` which got us the missing file and the conflict resolved.\n",
        "\n",
        "2. In this scenario, our local repo is missing a file **and** we have a new file committed to our local repo that is missing from the remote repo.\n",
        "\n",
        "\n",
        "First, we start by simulating that another team member added a file to the remote repo. We follow the same steps to trigger our `conflict-bot.yml` GitHub action.\n",
        "\n",
        "Let's create a `text4.txt`in the main directory (e.g. `ost-demo`), as we did earlier, and then run the following commands.\n",
        "\n",
        "\n",
        "```\n",
        "git add .\n",
        "git commit -m \"create conflict\"\n",
        "git push\n",
        "```\n",
        "\n",
        "Now, view your remote GitHub repo to confirm that you 2 conflict files (and 4 text files and 1 python file)."
      ],
      "metadata": {
        "id": "txVTHRiLD-8P"
      },
      "id": "txVTHRiLD-8P"
    },
    {
      "cell_type": "markdown",
      "source": [
        "We now create a new `text5.txt`in the main directory (e.g. `ost-demo`) and then commit to our local repo and push the changes.\n",
        "\n",
        "\n",
        "```\n",
        "git add .\n",
        "git commit -m \"Adding text5.txt\"\n",
        "git push\n",
        "```\n",
        "\n",
        "This will give us the same warning we saw before and reject our push to remote repo. We resolved the issue earlier with a `git pull` command. Let's try that again.\n",
        "\n",
        "```\n",
        "git pull\n",
        "```\n",
        "\n",
        "This will not resolved the issue! You should instead get a warning like:\n",
        "\n",
        "![Viewing Your GitHub Action Outcome3](https://drive.google.com/uc?id=1fYzyGTE3IutdsJ2N_nvEK10DL8VklyIg)\n",
        "\n",
        "\n",
        "We now have **divergent branches** - i.e., it is not a simple case of either the local or remote missing some file and by simply pulling/pushing them will resolve the issue. Here, the remote repo has a file `conflict2_<timestamp>.txt` which is not in our local repo **as well as** `text5.txt` file which is in our local repo but not on the remote repo!\n",
        "\n",
        "To resolve this issue, we will use `git fetch` (which updates our local repo with the missing `conflict2_<timestamp>.txt`) and `git merge` (which merges the remote branch main - as fetched from origin - into our current local branch).\n",
        "\n",
        "```\n",
        "git fetch origin\n",
        "git merge origin/main -m \"Merging updates from remote main branch\"\n",
        "```\n",
        "\n",
        "This has now resolved the issue by merging the new update from the remote repo into your local repo. Now, your local repo is has the *latest verion* of the code base (because you have all the changes from the remote repo, plus the new changes - new created `text5.txt` file - that you have in your local repo). So let's do:\n",
        "\n",
        "```\n",
        "git push\n",
        "```\n",
        "\n",
        "This should go through. To confirm, go and view your GitHub repo. It should have 5 text files, 1 python file and 2 conflict file (note that the most recent push didn't create a third conflict file, why? because the commit comment was \"Merging updates from remote main branch\" in the `git merge origin/main -m \"Merging updates from remote main branch\"` command."
      ],
      "metadata": {
        "id": "xQRxxXayHKlP"
      },
      "id": "xQRxxXayHKlP"
    },
    {
      "cell_type": "markdown",
      "source": [
        "## 8 Creating Even More Complicated Conflicts!\n",
        "\n",
        "So far, we have only observed conflicts arising when a file was missing from either repos. But what happens if the conflict is due to changes within a single file. For example, imagine that two members check out the same remote repo. Their local repos will be identical. However, both members start adding code to the **same** file. If one of them pushes their changes to the remote repo, the other team member won't be able to.\n",
        "\n",
        "This is a more complex but a common issue so let's see how such issues arise and resolved.\n",
        "\n"
      ],
      "metadata": {
        "id": "4cFm62K6Nhjf"
      },
      "id": "4cFm62K6Nhjf"
    },
    {
      "cell_type": "markdown",
      "source": [
        "### 8.1 Simulating Conflict Within a File Contents\n",
        "\n",
        "To make up for the fact that there's no other team member (you must feel lonely!) working on the same remote repo, we will need to simulate that scenario. To do so, we take the same approach as we did earlier, by creating a GitHub action that keeps adding a new line the same `shared.txt` file, thus creating the situation where the local and remote repo will have two different versions of the same file.\n",
        "\n",
        "To do so, we first create a GitHub Action file `conflict-bot-within-file.yml` in our `.github/workflows` directory with the following code. Alternatively, you can download the `conflict-bot-within-file.yml` and copy it into `.github/workflows` directory\n",
        "\n",
        "**[Download link for `conflict-bot-within-file.yml`](https://drive.google.com/file/d/1R5XJOd8yZD1ndcp9DnV1-sgH-Lq1pDat/view?usp=drive_link)**\n",
        "\n",
        "\n",
        "```yaml\n",
        "name: Auto Conflict Creator\n",
        "\n",
        "on:\n",
        "  push:\n",
        "    branches:\n",
        "      - main\n",
        "\n",
        "permissions:\n",
        "  contents: write\n",
        "\n",
        "jobs:\n",
        "  conflict-bot:\n",
        "    # Only run if the last commit message includes the exact trigger text\n",
        "    if: contains(github.event.head_commit.message, 'create conflict within file')\n",
        "    runs-on: ubuntu-latest\n",
        "\n",
        "    steps:\n",
        "      - name: Checkout repository\n",
        "        uses: actions/checkout@v4\n",
        "        with:\n",
        "          ref: main\n",
        "\n",
        "      - name: Configure Git\n",
        "        run: |\n",
        "          git config user.name \"Conflict Bot\"\n",
        "          git config user.email \"conflict-bot@users.noreply.github.com\"\n",
        "\n",
        "      - name: Create or update shared file to cause conflict\n",
        "        run: |\n",
        "          FILE=\"shared.txt\"\n",
        "          TIMESTAMP=$(date)\n",
        "          echo \"${TIMESTAMP}: Code Conflict\" >> \"$FILE\"\n",
        "          git add \"$FILE\"\n",
        "          git commit -m \"Auto: Conflict Bot edit at ${TIMESTAMP}\"\n",
        "          git push origin main\n",
        "```\n",
        "\n",
        "\n",
        "Note that this action will trigger when the commit comment is \"create conflict within file\".\n",
        "\n",
        "\n",
        "We now create a `shared.txt` file in the main directory (e.g. `ost-demo`) and write a single line \"First line in the shared file\". Then run\n",
        "\n",
        "```\n",
        "git add .\n",
        "git commit -m \"Add shared.txt\"\n",
        "git push\n",
        "```\n",
        "\n",
        "You can verify that the `shared.txt` file and `conflict-bot-within-file.yml`are now on your remote repo.  "
      ],
      "metadata": {
        "id": "7sunlEkdO7js"
      },
      "id": "7sunlEkdO7js"
    },
    {
      "cell_type": "markdown",
      "source": [
        "### 8.2 Creating a conflict within file\n",
        "\n",
        "Now, we modify our 'shared.txt' to add a second line \"Second line in the shared file\". We the run the following commands which comment the changes to our local repo. We then push our changes with the commit comment \"create conflict within file\" which trigger sthe `conflict-bot-within-file.yml`. When `conflict-bot-within-file.yml` is triggers it will add another line to the `shared.txt` in our remote rep. Thus, the remote version of the `shared.txt` is now different than the `shared.txt` file in our local repo.\n",
        "\n",
        "\n",
        "```\n",
        "git add .\n",
        "git commit -m \"create conflict within file\"\n",
        "git push\n",
        "```\n",
        "\n",
        "You should view the `shared.txt` file on your remote repo. **Note that it will take sometime for `conflict-bot-within-file.yml` to be updated so be patient!**"
      ],
      "metadata": {
        "id": "gNTXZl8CRXGe"
      },
      "id": "gNTXZl8CRXGe"
    },
    {
      "cell_type": "markdown",
      "source": [
        "Now, we know that `shared.txt` has different versions on the local and remote repo.\n",
        "\n",
        "We now add another line \"Third line in the shared file\" to `shared.txt`, and then run the following code again.\n",
        "\n",
        "```\n",
        "git add .\n",
        "git commit -m \"create conflict within file\"\n",
        "git push\n",
        "```\n",
        "The outcome will be that our push will be rejected with a warning.\n",
        "\n",
        "Now if you run you run `git pull` to resolve it, it will give you the `you have divergent branches` warning as before. Go on try it!\n",
        "\n",
        "```\n",
        "git status\n",
        "```\n",
        "\n",
        "This should give you further information on the file with conflict.\n",
        "\n",
        "Now, let's try the following command.\n",
        "\n",
        "```\n",
        "git pull --no-rebase\n",
        "```\n",
        "\n",
        "You’re telling Git explicitly to **merge**, not rebase, the fetched commits. This should tell you that \"automatic merge failed\" and to manually fix conflict.   \n",
        "\n",
        "![Git pull norebase](https://drive.google.com/uc?id=1530xhJcrNkZ6tOESUTWI6udJu4xI4kMY)\n",
        "\n",
        "\n",
        "Now, open the shared.txt file you will notice that git has automatically inserted a `<<<<<<< HEAD` line and `>>>>>>> 67425485e84c55287557afad7ae97f518d5b9c2a` between those two lines is the content which is different between the two versions of `shared.txt` on the remote and local repos.\n",
        "\n",
        "\n",
        "To resolve it simply, delete the extra lines that git has inserted. Save the `shared.txt` file. and then commit as follows.\n",
        "\n",
        "\n",
        "```\n",
        "git add shared.txt\n",
        "git commit -m \"Resolved merge conflict in shared.txt\"\n",
        "git push\n",
        "```\n",
        "\n",
        "This should go through. And we are done!"
      ],
      "metadata": {
        "id": "0seE0jCGUzQT"
      },
      "id": "0seE0jCGUzQT"
    },
    {
      "cell_type": "markdown",
      "source": [
        "## 9 Conclusion\n",
        "\n",
        "Well done if you got this far! You should now have an understanding of version control using git, creating and committing to local/remote repositories, creating bascic CI/CD scripts and succesffully executing them, exploring the basic and complex scenarios where conflict aris between local/remote repositories and how to resolve them."
      ],
      "metadata": {
        "id": "S4NiCKf-w6Pv"
      },
      "id": "S4NiCKf-w6Pv"
    }
  ],
  "metadata": {
    "kernelspec": {
      "display_name": "Python 3 (ipykernel)",
      "language": "python",
      "name": "python3"
    },
    "language_info": {
      "codemirror_mode": {
        "name": "ipython",
        "version": 3
      },
      "file_extension": ".py",
      "mimetype": "text/x-python",
      "name": "python",
      "nbconvert_exporter": "python",
      "pygments_lexer": "ipython3",
      "version": "3.12.7"
    },
    "colab": {
      "provenance": []
    }
  },
  "nbformat": 4,
  "nbformat_minor": 5
}